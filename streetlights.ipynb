{
 "cells": [
  {
   "cell_type": "markdown",
   "metadata": {},
   "source": [
    "# Performing raster stats on remote datasets\n",
    "\n",
    "## Scenario\n",
    "Your uncle is moving to Tucson from New York City and he is deathly afraid of all the desert creatures he has heard about. He has asked you to help him find a neighborhood that is well-lit so that he can be sure to see any venomous creatures which might be lurking about. You googled 'well-lit neighborhoods in Tucson' but nothing came up. Luckily, you are a GIS professional and you know exactly what to do. With a neighborhoods polygon and a streetlights dataset you can simply do some zonal stats and figure out how much ambient light there is in each neighborhood and simply recommend those to your uncle and his realtor.\n",
    "\n",
    "\n",
    "## Overview\n",
    "This Jupyter Notebooks walks you through some basic spatial analysis using the `geopandas`, `numpy`, and `rasterstats` Python libraries.\n",
    "\n",
    "In this tutorial you will learn how to:\n",
    "\n",
    "- acquire spatial data from a remote resource as a GeoPandas `DataFrame`\n",
    "- inspect a GeoPandas `DataFrame`\n",
    "- visualize a GeoPandas `DataFrame`\n",
    "- replace null values in a `DataFrame` attribute table\n",
    "- create a heat map from points dataset using `numpy`\n",
    "- create a raster (GeoTIFF) from scratch using a numpy array\n",
    "- perform zonal stats using a raster and a vector with the `rasterstats` library\n",
    "- sort a GeoPandas `DataFrame`\n",
    "\n",
    "The data you will be using will be from the City of Tucson Open GIS Data website: \n",
    "- (Streetlights)[http://gisdata.tucsonaz.gov/datasets/streetlights-city-of-tucson-open-data]\n",
    "- (Neighborhood Associations)[http://data-cotgis.opendata.arcgis.com/datasets/neighborhood-associations-open-data]\n",
    "\n",
    "Don't download the data now; you will do that programmatically below."
   ]
  },
  {
   "cell_type": "markdown",
   "metadata": {},
   "source": [
    "## Install python libraries\n",
    "Your jupyter environment (aka `kernel` is unlikely to have these libraries installed so you will have to install them yourself. The process is different depending on which package manager you are using. The cell below contains the command to install these for `conda`; if you are using `pip`, then replace the cell contents with the section below for `pip` users:\n",
    "\n",
    "## For `conda` users\n",
    "```\n",
    "import sys\n",
    "!conda install --yes --prefix {sys.prefix} rasterstats requests scipy rasterio numpy pandas geopandas matplotlib\n",
    "```\n",
    "### For `pip` users:\n",
    "```\n",
    "import sys\n",
    "!{sys.executable} -m pip install rasterstats requests scipy rasterio numpy pandas geopandas matplotlib\n",
    "```"
   ]
  },
  {
   "cell_type": "code",
   "execution_count": 1,
   "metadata": {
    "scrolled": true
   },
   "outputs": [
    {
     "name": "stdout",
     "output_type": "stream",
     "text": [
      "\r\n",
      "DirectoryNotACondaEnvironmentError: The target directory exists, but it is not a conda environment.\r\n",
      "Use 'conda create' to convert the directory to a conda environment.\r\n",
      "  target directory: /Users/aaryno/.pyenv/versions/3.7.1\r\n",
      "\r\n",
      "\r\n"
     ]
    }
   ],
   "source": [
    "import sys\n",
    "!conda install --yes --prefix {sys.prefix} rasterstats requests scipy rasterio numpy pandas geopandas matplotlib"
   ]
  },
  {
   "cell_type": "markdown",
   "metadata": {},
   "source": [
    "Now that the libraries are installed, import them so we can use them below."
   ]
  },
  {
   "cell_type": "code",
   "execution_count": 2,
   "metadata": {
    "scrolled": true
   },
   "outputs": [],
   "source": [
    "import math\n",
    "import requests\n",
    "import os\n",
    "import scipy.ndimage.filters\n",
    "import rasterio as rio\n",
    "from rasterio.transform import from_origin\n",
    "from rasterio.plot import show\n",
    "import numpy as np\n",
    "import pandas as pd\n",
    "import geopandas as gpd\n",
    "import matplotlib.pyplot as plt\n",
    "from rasterstats import zonal_stats"
   ]
  },
  {
   "cell_type": "markdown",
   "metadata": {},
   "source": [
    "To display graphical plots in jupyter:"
   ]
  },
  {
   "cell_type": "code",
   "execution_count": 3,
   "metadata": {},
   "outputs": [],
   "source": [
    "%matplotlib inline"
   ]
  },
  {
   "cell_type": "markdown",
   "metadata": {},
   "source": [
    "Let's open our first dataset; street lights. This data is available online from http://gisdata.tucsonaz.gov/datasets/streetlights-city-of-tucson-open-data. I've copied the GeoJSON link and added it below. We are going to first check to see if the file has already been downloaded and, if not, then download it using the `requests` library, and write it out to a file."
   ]
  },
  {
   "cell_type": "code",
   "execution_count": 4,
   "metadata": {},
   "outputs": [],
   "source": [
    "if not os.path.exists('data/street_lights.geojson'):\n",
    "  url = 'https://opendata.arcgis.com/datasets/09ed59b6aae2483aa1bd32837d4aa7e5_19.geojson'\n",
    "  r = requests.get(url)\n",
    "  with open('data/street_lights.geojson', 'w') as f:\n",
    "    f.write(r.content.decode(\"utf-8\"))\n"
   ]
  },
  {
   "cell_type": "markdown",
   "metadata": {},
   "source": [
    "We just downloaded the file above. Now let's load it using the `geopandas` library, which knows how to interpret its spatial nature and its attributes. Once we open it, we'll take a peek at the first 5 lines using the `head()` function that pandas provides. You can always use that method when you have a `DataFrame` or `GeoDataFrame` to see the first few lines of the table."
   ]
  },
  {
   "cell_type": "code",
   "execution_count": 5,
   "metadata": {
    "scrolled": false
   },
   "outputs": [
    {
     "data": {
      "text/html": [
       "<div>\n",
       "<style scoped>\n",
       "    .dataframe tbody tr th:only-of-type {\n",
       "        vertical-align: middle;\n",
       "    }\n",
       "\n",
       "    .dataframe tbody tr th {\n",
       "        vertical-align: top;\n",
       "    }\n",
       "\n",
       "    .dataframe thead th {\n",
       "        text-align: right;\n",
       "    }\n",
       "</style>\n",
       "<table border=\"1\" class=\"dataframe\">\n",
       "  <thead>\n",
       "    <tr style=\"text-align: right;\">\n",
       "      <th></th>\n",
       "      <th>OBJECTID</th>\n",
       "      <th>Model</th>\n",
       "      <th>Type</th>\n",
       "      <th>Bulb_Type</th>\n",
       "      <th>Wattage</th>\n",
       "      <th>Voltage</th>\n",
       "      <th>Address_Number</th>\n",
       "      <th>Street</th>\n",
       "      <th>City</th>\n",
       "      <th>Spatial_X</th>\n",
       "      <th>Spatial_Y</th>\n",
       "      <th>Light_Fixture_Theme</th>\n",
       "      <th>Permit_Number</th>\n",
       "      <th>CartegraphID</th>\n",
       "      <th>DATASOURCE</th>\n",
       "      <th>geometry</th>\n",
       "    </tr>\n",
       "  </thead>\n",
       "  <tbody>\n",
       "    <tr>\n",
       "      <td>0</td>\n",
       "      <td>1</td>\n",
       "      <td>ATBM D R3</td>\n",
       "      <td>Autobahn</td>\n",
       "      <td>LED</td>\n",
       "      <td>95.0</td>\n",
       "      <td>480.0</td>\n",
       "      <td>5425.0</td>\n",
       "      <td>S Campbell Av</td>\n",
       "      <td>Tucson</td>\n",
       "      <td>-110.943296</td>\n",
       "      <td>32.153723</td>\n",
       "      <td>Other</td>\n",
       "      <td></td>\n",
       "      <td>51</td>\n",
       "      <td>TDOT_STREETLIGHTS</td>\n",
       "      <td>POINT (-110.94330 32.15372)</td>\n",
       "    </tr>\n",
       "    <tr>\n",
       "      <td>1</td>\n",
       "      <td>2</td>\n",
       "      <td>ATBM D R3</td>\n",
       "      <td>Autobahn</td>\n",
       "      <td>LED</td>\n",
       "      <td>95.0</td>\n",
       "      <td>480.0</td>\n",
       "      <td>5434.0</td>\n",
       "      <td>S Campbell Av</td>\n",
       "      <td>Tucson</td>\n",
       "      <td>-110.943592</td>\n",
       "      <td>32.153405</td>\n",
       "      <td>Other</td>\n",
       "      <td></td>\n",
       "      <td>52</td>\n",
       "      <td>TDOT_STREETLIGHTS</td>\n",
       "      <td>POINT (-110.94359 32.15340)</td>\n",
       "    </tr>\n",
       "    <tr>\n",
       "      <td>2</td>\n",
       "      <td>3</td>\n",
       "      <td>ATBM D R3</td>\n",
       "      <td>Autobahn</td>\n",
       "      <td>LED</td>\n",
       "      <td>95.0</td>\n",
       "      <td>480.0</td>\n",
       "      <td>5441.0</td>\n",
       "      <td>S Campbell Av</td>\n",
       "      <td>Tucson</td>\n",
       "      <td>-110.943300</td>\n",
       "      <td>32.153082</td>\n",
       "      <td>Other</td>\n",
       "      <td></td>\n",
       "      <td>53</td>\n",
       "      <td>TDOT_STREETLIGHTS</td>\n",
       "      <td>POINT (-110.94330 32.15308)</td>\n",
       "    </tr>\n",
       "    <tr>\n",
       "      <td>3</td>\n",
       "      <td>4</td>\n",
       "      <td>ATBM D R3</td>\n",
       "      <td>Autobahn</td>\n",
       "      <td>LED</td>\n",
       "      <td>95.0</td>\n",
       "      <td>480.0</td>\n",
       "      <td>5454.0</td>\n",
       "      <td>S Campbell Av</td>\n",
       "      <td>Tucson</td>\n",
       "      <td>-110.943597</td>\n",
       "      <td>32.152760</td>\n",
       "      <td>Other</td>\n",
       "      <td></td>\n",
       "      <td>54</td>\n",
       "      <td>TDOT_STREETLIGHTS</td>\n",
       "      <td>POINT (-110.94360 32.15276)</td>\n",
       "    </tr>\n",
       "    <tr>\n",
       "      <td>4</td>\n",
       "      <td>5</td>\n",
       "      <td>ATBM D R3</td>\n",
       "      <td>Autobahn</td>\n",
       "      <td>LED</td>\n",
       "      <td>95.0</td>\n",
       "      <td>480.0</td>\n",
       "      <td>5457.0</td>\n",
       "      <td>S Campbell Av</td>\n",
       "      <td>Tucson</td>\n",
       "      <td>-110.943295</td>\n",
       "      <td>32.152523</td>\n",
       "      <td>Other</td>\n",
       "      <td></td>\n",
       "      <td>55</td>\n",
       "      <td>TDOT_STREETLIGHTS</td>\n",
       "      <td>POINT (-110.94330 32.15252)</td>\n",
       "    </tr>\n",
       "  </tbody>\n",
       "</table>\n",
       "</div>"
      ],
      "text/plain": [
       "   OBJECTID      Model      Type Bulb_Type  Wattage  Voltage  Address_Number  \\\n",
       "0         1  ATBM D R3  Autobahn       LED     95.0    480.0          5425.0   \n",
       "1         2  ATBM D R3  Autobahn       LED     95.0    480.0          5434.0   \n",
       "2         3  ATBM D R3  Autobahn       LED     95.0    480.0          5441.0   \n",
       "3         4  ATBM D R3  Autobahn       LED     95.0    480.0          5454.0   \n",
       "4         5  ATBM D R3  Autobahn       LED     95.0    480.0          5457.0   \n",
       "\n",
       "          Street    City   Spatial_X  Spatial_Y Light_Fixture_Theme  \\\n",
       "0  S Campbell Av  Tucson -110.943296  32.153723               Other   \n",
       "1  S Campbell Av  Tucson -110.943592  32.153405               Other   \n",
       "2  S Campbell Av  Tucson -110.943300  32.153082               Other   \n",
       "3  S Campbell Av  Tucson -110.943597  32.152760               Other   \n",
       "4  S Campbell Av  Tucson -110.943295  32.152523               Other   \n",
       "\n",
       "  Permit_Number CartegraphID         DATASOURCE                     geometry  \n",
       "0                         51  TDOT_STREETLIGHTS  POINT (-110.94330 32.15372)  \n",
       "1                         52  TDOT_STREETLIGHTS  POINT (-110.94359 32.15340)  \n",
       "2                         53  TDOT_STREETLIGHTS  POINT (-110.94330 32.15308)  \n",
       "3                         54  TDOT_STREETLIGHTS  POINT (-110.94360 32.15276)  \n",
       "4                         55  TDOT_STREETLIGHTS  POINT (-110.94330 32.15252)  "
      ]
     },
     "execution_count": 5,
     "metadata": {},
     "output_type": "execute_result"
    }
   ],
   "source": [
    "street_lights=gpd.read_file('data/street_lights.geojson')\n",
    "street_lights.head()"
   ]
  },
  {
   "cell_type": "markdown",
   "metadata": {},
   "source": [
    "It looks like we have attribute data, but what about the spatial part? Let's make a crude graph using the `matplotlib` library."
   ]
  },
  {
   "cell_type": "code",
   "execution_count": 6,
   "metadata": {},
   "outputs": [
    {
     "data": {
      "image/png": "[encoded data removed]",
      "text/plain": [
       "<Figure size 720x720 with 1 Axes>"
      ]
     },
     "metadata": {
      "needs_background": "light"
     },
     "output_type": "display_data"
    }
   ],
   "source": [
    "fig, ax = plt.subplots(figsize = (10,10))\n",
    "street_lights.plot(ax=ax)\n",
    "plt.show()"
   ]
  },
  {
   "cell_type": "markdown",
   "metadata": {},
   "source": [
    "We are going to ultimately make a heatmap using the `Wattage` field but it is going to create some undesirable artifacts if there are any `NaN` fields (`NaN` means \"not a number\" for numeric fields). The `numpy` library provides a function to get a list of the indices matching a certain condition. In this case, the condition is where the fields are `NaN`. \n",
    "\n",
    "What will happen if we don't clean those up? When we try to create a heatmap, the function will be applied to all the values in a certain neighborhood. If that function is, say, `mean`, and it tries to take the mean of `1`, `2`, and `NaN`, the answer will also be `NaN`. We want to replace them all with `0` (you can use another realistic value if you'd like)."
   ]
  },
  {
   "cell_type": "code",
   "execution_count": 7,
   "metadata": {
    "scrolled": true
   },
   "outputs": [
    {
     "data": {
      "text/plain": [
       "(array([ 1201,  5681,  6268,  6269,  6270,  6271,  6272,  6273,  6274,\n",
       "         6275,  6276,  6277,  6278,  6279,  6280,  6281,  6282,  6283,\n",
       "         6284,  6285,  6286,  6287,  6288,  6289,  6290,  6291,  6292,\n",
       "         6293,  9385,  9386,  9387,  9388,  9389,  9390,  9391,  9392,\n",
       "         9393,  9394,  9395,  9396,  9397, 10016, 10018, 10019, 10518,\n",
       "        10925, 10926, 10927, 10928, 10929, 10930, 10931, 10932, 10933,\n",
       "        10934, 10935, 10936, 10937, 10938, 10939, 12011, 15469, 15470,\n",
       "        16086, 16087, 16088, 16089, 16090, 16091, 16092, 18305, 18307,\n",
       "        18315, 19275, 19276, 19277, 19278, 19279, 20920, 21726, 21727,\n",
       "        21728, 21729, 21730, 21731, 21732, 21733, 21734, 21735, 21736,\n",
       "        21737, 21738, 21739, 21740, 21741, 21742, 21838, 21839, 21840,\n",
       "        21841, 21846, 21847, 21848, 21849, 21852, 21853, 21854, 21855,\n",
       "        21856, 21857, 21875, 21876, 21877, 21878, 21879, 21881, 21882,\n",
       "        21883, 21884, 21886, 21887, 21888, 21889, 21890, 21891, 21893,\n",
       "        21894, 21895, 21896, 21897, 21898, 21899, 21900, 21901, 21920,\n",
       "        21923, 21991, 22044, 22045, 22046, 22047, 22048, 22049, 22050,\n",
       "        22051, 22052, 22054, 22055, 22056, 22058, 22059, 22060, 22061,\n",
       "        22062, 22063, 22064, 22065, 22066, 22067, 22068, 22069, 22070,\n",
       "        22071, 22072, 22073, 22074, 22076, 22077, 22078, 22079, 22080,\n",
       "        22081, 22082, 22083, 22084, 22085, 22086, 22087, 22088, 22089,\n",
       "        22090, 22091, 22092, 22093, 22094, 22095, 22096, 22097, 22098,\n",
       "        22099, 22100, 22101, 22173, 22272]),)"
      ]
     },
     "execution_count": 7,
     "metadata": {},
     "output_type": "execute_result"
    }
   ],
   "source": [
    "inds = np.where(street_lights['Wattage'].isnull())\n",
    "inds"
   ]
  },
  {
   "cell_type": "markdown",
   "metadata": {},
   "source": [
    "To see that the `Wattage` field is actually full of those `NaN` values, let's look at a slice with those indexes:"
   ]
  },
  {
   "cell_type": "code",
   "execution_count": 8,
   "metadata": {},
   "outputs": [
    {
     "data": {
      "text/plain": [
       "1201    NaN\n",
       "5681    NaN\n",
       "6268    NaN\n",
       "6269    NaN\n",
       "6270    NaN\n",
       "         ..\n",
       "22099   NaN\n",
       "22100   NaN\n",
       "22101   NaN\n",
       "22173   NaN\n",
       "22272   NaN\n",
       "Name: Wattage, Length: 194, dtype: float64"
      ]
     },
     "execution_count": 8,
     "metadata": {},
     "output_type": "execute_result"
    }
   ],
   "source": [
    "street_lights['Wattage'][inds[0]]"
   ]
  },
  {
   "cell_type": "markdown",
   "metadata": {},
   "source": [
    "This is a very common issue! `Pandas` provides a convenient way of fixing those by replacing them with a set value. Use the `fillna` function and replace the values in place. Then, print the indices of the null values afterwards as a sanity check."
   ]
  },
  {
   "cell_type": "code",
   "execution_count": 9,
   "metadata": {},
   "outputs": [
    {
     "data": {
      "text/plain": [
       "(array([], dtype=int64),)"
      ]
     },
     "execution_count": 9,
     "metadata": {},
     "output_type": "execute_result"
    }
   ],
   "source": [
    "street_lights['Wattage'].fillna(value=0, inplace = True)\n",
    "inds = np.where(street_lights['Wattage'].isnull())\n",
    "inds"
   ]
  },
  {
   "cell_type": "markdown",
   "metadata": {},
   "source": [
    "Great! You now have a clean street lights dataset. Our next task is to create a heat map. To do this we are going to construct an array that will contain all the raster values over our area, then create a raster from scratch based on the bounds of our street_lights data. You can experiment with different kernel shapes below and see how that affects the output. In the meantime, let's extract the spatial coordinates of the points dataset."
   ]
  },
  {
   "cell_type": "code",
   "execution_count": 10,
   "metadata": {},
   "outputs": [],
   "source": [
    "x = street_lights['Spatial_X']\n",
    "y = street_lights['Spatial_Y']\n",
    "minx = min(x)\n",
    "maxx = max(x)\n",
    "miny = min(y)\n",
    "maxy = max(y)"
   ]
  },
  {
   "cell_type": "markdown",
   "metadata": {},
   "source": [
    "Calculate the number of cells in the x and y direction. Since this is a geographic coordinate system and we want our cells about the same dimensions in x and y, we scale the xcount based on the cosine of the latitude of Tucson (about 0.846). If you want a raster that is more or less dense than the example below, modify the `cell_size_y` value."
   ]
  },
  {
   "cell_type": "code",
   "execution_count": 11,
   "metadata": {},
   "outputs": [],
   "source": [
    "cell_size_y=0.001\n",
    "ycount = math.ceil((maxy-miny)/cell_size_y)\n",
    "xcount = math.ceil(ycount/math.cos(math.radians(32.2)))\n",
    "xsize = (maxx-minx)/xcount\n",
    "ysize = (maxy-miny)/ycount"
   ]
  },
  {
   "cell_type": "markdown",
   "metadata": {},
   "source": [
    "Brighter lights contribute more to the ambient light than softer lights so we are going to use `Wattage` to further weight for each point. "
   ]
  },
  {
   "cell_type": "code",
   "execution_count": 12,
   "metadata": {},
   "outputs": [],
   "source": [
    "weights = street_lights['Wattage'].copy()"
   ]
  },
  {
   "cell_type": "markdown",
   "metadata": {},
   "source": [
    "Finally, we summarize the street lights by each grid cell, adding their weights within each cell. Since we are adding a bunch of lights in some cells and the units are `Watts`, these summary values will be quite large and not have an easily interpretable meaning. It might be something along the lines of `cumulative streetlight watts per cell`"
   ]
  },
  {
   "cell_type": "code",
   "execution_count": 13,
   "metadata": {
    "scrolled": false
   },
   "outputs": [
    {
     "data": {
      "text/plain": [
       "(264, 223)"
      ]
     },
     "execution_count": 13,
     "metadata": {},
     "output_type": "execute_result"
    }
   ],
   "source": [
    "h, _, _ = np.histogram2d(x, y, bins=(np.linspace(minx, maxx, xcount), np.linspace(miny, maxy, ycount)), weights=weights)\n",
    "type(h)\n",
    "h.shape"
   ]
  },
  {
   "cell_type": "markdown",
   "metadata": {},
   "source": [
    "The lights have an effect beyond the cell they reside in. We will ignore the physics about light decay and just assume that there is a local neighborhood effect and describe it by a `Gaussian` filter. You can play with different filters and different filter parameters to see how they affect the resulting heatmap. There are a _lot_ of filter options that you can read about on the (SciPy.org)[https://docs.scipy.org/doc/scipy/reference/ndimage.html] webpage."
   ]
  },
  {
   "cell_type": "code",
   "execution_count": 14,
   "metadata": {},
   "outputs": [],
   "source": [
    "z = scipy.ndimage.filters.gaussian_filter(h.T, 1)"
   ]
  },
  {
   "cell_type": "markdown",
   "metadata": {},
   "source": [
    "We ran the filter. Just a sanity check to see that we still have the same type of thing"
   ]
  },
  {
   "cell_type": "code",
   "execution_count": 15,
   "metadata": {},
   "outputs": [
    {
     "data": {
      "text/plain": [
       "(223, 264)"
      ]
     },
     "execution_count": 15,
     "metadata": {},
     "output_type": "execute_result"
    }
   ],
   "source": [
    "type(z)\n",
    "z.shape"
   ]
  },
  {
   "cell_type": "markdown",
   "metadata": {},
   "source": [
    "The `numpy` library also has a way of easily finding the max or min of a dataset. "
   ]
  },
  {
   "cell_type": "code",
   "execution_count": 17,
   "metadata": {},
   "outputs": [
    {
     "data": {
      "text/plain": [
       "1947.7753562521355"
      ]
     },
     "execution_count": 17,
     "metadata": {},
     "output_type": "execute_result"
    }
   ],
   "source": [
    "np.amax(z)"
   ]
  },
  {
   "cell_type": "markdown",
   "metadata": {},
   "source": [
    "Don't worry! That's to be expected. Edge effects means the filter had to reach outside the source data to calcualte the new value and it filled them in with `NaN`s which, as you know, will cause the resulting function to also evaluate to `NaN`. We don't need to fix that data but we did want to see if the filter actually produced real data. `numpy` provides an alternative `max` function that ignores `NaN` since it is such a common use case."
   ]
  },
  {
   "cell_type": "code",
   "execution_count": 19,
   "metadata": {},
   "outputs": [
    {
     "data": {
      "text/plain": [
       "1947.7753562521355"
      ]
     },
     "execution_count": 19,
     "metadata": {},
     "output_type": "execute_result"
    }
   ],
   "source": [
    "np.nanmax(z)"
   ]
  },
  {
   "cell_type": "markdown",
   "metadata": {},
   "source": [
    "The next step is to construct the raster metadata for us to put the Gaussian-smoothed 2-d histogram data in. We set the `transform` which is really just the upper left coordinate and cell sizes (similar to what you get in a tif or jpg world file), the projection, the number of cells, the data type, and the number of bands."
   ]
  },
  {
   "cell_type": "code",
   "execution_count": 20,
   "metadata": {
    "scrolled": false
   },
   "outputs": [],
   "source": [
    "transform = from_origin(minx, maxy, xsize, ysize)\n",
    "meta = { 'count':1, # number of bands\n",
    "         'dtype': z.dtype, # copy the data type from the filter output\n",
    "         'driver': 'GTiff', # GeoTiff ftw\n",
    "         'width': xcount, # number of cells\n",
    "         'height': ycount, \n",
    "         'crs':rio.crs.CRS.from_dict(init='epsg:4326'), # WGS84 lat/long coordinate reference system\n",
    "         'transform': transform}"
   ]
  },
  {
   "cell_type": "markdown",
   "metadata": {},
   "source": [
    "Finally, write that heatmap to a file!"
   ]
  },
  {
   "cell_type": "code",
   "execution_count": 21,
   "metadata": {},
   "outputs": [],
   "source": [
    "with rio.open('data/streetlights_heatmap.tif', 'w', **meta) as dst:\n",
    "    dst.write(z, 1)"
   ]
  },
  {
   "cell_type": "markdown",
   "metadata": {},
   "source": [
    "To get a very quick sanity check that the heatmap has believable data we'll use the `rasterio` package to load and view:"
   ]
  },
  {
   "cell_type": "code",
   "execution_count": 22,
   "metadata": {},
   "outputs": [
    {
     "data": {
      "image/png": "[encoded data removed]",
      "text/plain": [
       "<Figure size 432x288 with 1 Axes>"
      ]
     },
     "metadata": {
      "needs_background": "light"
     },
     "output_type": "display_data"
    },
    {
     "data": {
      "text/plain": [
       "<matplotlib.axes._subplots.AxesSubplot at 0x11e2b00b8>"
      ]
     },
     "execution_count": 22,
     "metadata": {},
     "output_type": "execute_result"
    }
   ],
   "source": [
    "raster = rio.open('data/streetlights_heatmap.tif')\n",
    "show(raster)"
   ]
  },
  {
   "cell_type": "markdown",
   "metadata": {},
   "source": [
    "We now have a heatmap so it's time to load our second dataset, a polygon dataset. We will inspect it as well."
   ]
  },
  {
   "cell_type": "code",
   "execution_count": 23,
   "metadata": {},
   "outputs": [],
   "source": [
    "if not os.path.exists('data/nbrhoods.geojson'):\n",
    "  url = 'https://opendata.arcgis.com/datasets/828d637891e94d95a2e62cf62ad2f7e0_0.geojson'\n",
    "  r = requests.get(url)\n",
    "  with open('data/nbrhoods.geojson', 'w') as f:\n",
    "    f.write(r.content.decode(\"utf-8\"))\n",
    "    "
   ]
  },
  {
   "cell_type": "code",
   "execution_count": 24,
   "metadata": {},
   "outputs": [
    {
     "data": {
      "text/html": [
       "<div>\n",
       "<style scoped>\n",
       "    .dataframe tbody tr th:only-of-type {\n",
       "        vertical-align: middle;\n",
       "    }\n",
       "\n",
       "    .dataframe tbody tr th {\n",
       "        vertical-align: top;\n",
       "    }\n",
       "\n",
       "    .dataframe thead th {\n",
       "        text-align: right;\n",
       "    }\n",
       "</style>\n",
       "<table border=\"1\" class=\"dataframe\">\n",
       "  <thead>\n",
       "    <tr style=\"text-align: right;\">\n",
       "      <th></th>\n",
       "      <th>OBJECTID</th>\n",
       "      <th>NAME</th>\n",
       "      <th>WARD</th>\n",
       "      <th>REGISTRATION</th>\n",
       "      <th>SCHOOL_DISTRICT</th>\n",
       "      <th>PRESIDENT</th>\n",
       "      <th>PRESIDENT_PHONE</th>\n",
       "      <th>PRESIDENT_EMAIL</th>\n",
       "      <th>VICE_PRESIDENT</th>\n",
       "      <th>VP_PHONE</th>\n",
       "      <th>...</th>\n",
       "      <th>BY_LAWS_UPDATED</th>\n",
       "      <th>URL</th>\n",
       "      <th>NBA_ID</th>\n",
       "      <th>COT_MAP_NO</th>\n",
       "      <th>COALITIONS</th>\n",
       "      <th>DATASOURCE</th>\n",
       "      <th>MAP_NO</th>\n",
       "      <th>ShapeSTArea</th>\n",
       "      <th>ShapeSTLength</th>\n",
       "      <th>geometry</th>\n",
       "    </tr>\n",
       "  </thead>\n",
       "  <tbody>\n",
       "    <tr>\n",
       "      <td>0</td>\n",
       "      <td>1</td>\n",
       "      <td>A Mountain</td>\n",
       "      <td>1</td>\n",
       "      <td>11/01/84</td>\n",
       "      <td>TUSD</td>\n",
       "      <td>Peggy Williams</td>\n",
       "      <td></td>\n",
       "      <td>Amountaincommunity@cox.net</td>\n",
       "      <td>Barbara Elfbrandt (Vice Chair)</td>\n",
       "      <td>520-624-3024</td>\n",
       "      <td>...</td>\n",
       "      <td>06/15/13</td>\n",
       "      <td>https://www.tucsonaz.gov/apps/associations-and...</td>\n",
       "      <td>2</td>\n",
       "      <td>69</td>\n",
       "      <td></td>\n",
       "      <td>NHA_CITY</td>\n",
       "      <td>None</td>\n",
       "      <td>2.458101e+07</td>\n",
       "      <td>20383.248478</td>\n",
       "      <td>POLYGON ((-111.00763 32.20690, -111.01179 32.2...</td>\n",
       "    </tr>\n",
       "    <tr>\n",
       "      <td>1</td>\n",
       "      <td>2</td>\n",
       "      <td>Aldea Linda</td>\n",
       "      <td>6</td>\n",
       "      <td>12/13/10</td>\n",
       "      <td></td>\n",
       "      <td>Nanette M Warner</td>\n",
       "      <td></td>\n",
       "      <td>nmwarner51@msn.com</td>\n",
       "      <td></td>\n",
       "      <td></td>\n",
       "      <td>...</td>\n",
       "      <td></td>\n",
       "      <td>https://www.tucsonaz.gov/apps/associations-and...</td>\n",
       "      <td>3</td>\n",
       "      <td>193</td>\n",
       "      <td>None</td>\n",
       "      <td>NHA_CITY</td>\n",
       "      <td>None</td>\n",
       "      <td>3.624837e+06</td>\n",
       "      <td>8046.606594</td>\n",
       "      <td>POLYGON ((-110.89229 32.21064, -110.89233 32.2...</td>\n",
       "    </tr>\n",
       "    <tr>\n",
       "      <td>2</td>\n",
       "      <td>3</td>\n",
       "      <td>Alvernon Heights</td>\n",
       "      <td>5</td>\n",
       "      <td>03/24/82</td>\n",
       "      <td>TUSD</td>\n",
       "      <td>Diane M. Campbell</td>\n",
       "      <td>325-2189</td>\n",
       "      <td></td>\n",
       "      <td>Helen Ferris</td>\n",
       "      <td>425-4457</td>\n",
       "      <td>...</td>\n",
       "      <td>01/28/02</td>\n",
       "      <td>https://www.tucsonaz.gov/apps/associations-and...</td>\n",
       "      <td>4</td>\n",
       "      <td>2</td>\n",
       "      <td></td>\n",
       "      <td>NHA_CITY</td>\n",
       "      <td>None</td>\n",
       "      <td>2.192354e+06</td>\n",
       "      <td>6445.969849</td>\n",
       "      <td>POLYGON ((-110.90089 32.20342, -110.90251 32.2...</td>\n",
       "    </tr>\n",
       "    <tr>\n",
       "      <td>3</td>\n",
       "      <td>4</td>\n",
       "      <td>Amphi</td>\n",
       "      <td>3</td>\n",
       "      <td>09/01/97</td>\n",
       "      <td>AMPHI</td>\n",
       "      <td>Maureen Hazlett</td>\n",
       "      <td>360-7866</td>\n",
       "      <td>mhazlett@amphi.com</td>\n",
       "      <td></td>\n",
       "      <td></td>\n",
       "      <td>...</td>\n",
       "      <td>11/17/05</td>\n",
       "      <td>https://www.tucsonaz.gov/apps/associations-and...</td>\n",
       "      <td>5</td>\n",
       "      <td>95</td>\n",
       "      <td></td>\n",
       "      <td>NHA_CITY</td>\n",
       "      <td>None</td>\n",
       "      <td>2.778033e+07</td>\n",
       "      <td>21124.051219</td>\n",
       "      <td>POLYGON ((-110.96099 32.26481, -110.96099 32.2...</td>\n",
       "    </tr>\n",
       "    <tr>\n",
       "      <td>4</td>\n",
       "      <td>5</td>\n",
       "      <td>Arcadia Rose</td>\n",
       "      <td>6</td>\n",
       "      <td>09/28/11</td>\n",
       "      <td></td>\n",
       "      <td>Arlene Imoehl</td>\n",
       "      <td>977-7817</td>\n",
       "      <td>R-A-IMOEHL@cox.net</td>\n",
       "      <td></td>\n",
       "      <td></td>\n",
       "      <td>...</td>\n",
       "      <td>09/28/2011</td>\n",
       "      <td>https://www.tucsonaz.gov/apps/associations-and...</td>\n",
       "      <td>6</td>\n",
       "      <td>194</td>\n",
       "      <td>None</td>\n",
       "      <td>NHA_CITY</td>\n",
       "      <td>None</td>\n",
       "      <td>1.736186e+06</td>\n",
       "      <td>5271.927695</td>\n",
       "      <td>POLYGON ((-110.88843 32.25065, -110.88840 32.2...</td>\n",
       "    </tr>\n",
       "  </tbody>\n",
       "</table>\n",
       "<p>5 rows × 34 columns</p>\n",
       "</div>"
      ],
      "text/plain": [
       "   OBJECTID              NAME  WARD REGISTRATION SCHOOL_DISTRICT  \\\n",
       "0         1        A Mountain     1     11/01/84            TUSD   \n",
       "1         2       Aldea Linda     6     12/13/10                   \n",
       "2         3  Alvernon Heights     5     03/24/82            TUSD   \n",
       "3         4             Amphi     3     09/01/97           AMPHI   \n",
       "4         5      Arcadia Rose     6     09/28/11                   \n",
       "\n",
       "           PRESIDENT PRESIDENT_PHONE             PRESIDENT_EMAIL  \\\n",
       "0     Peggy Williams                  Amountaincommunity@cox.net   \n",
       "1   Nanette M Warner                          nmwarner51@msn.com   \n",
       "2  Diane M. Campbell        325-2189                               \n",
       "3    Maureen Hazlett        360-7866          mhazlett@amphi.com   \n",
       "4      Arlene Imoehl        977-7817          R-A-IMOEHL@cox.net   \n",
       "\n",
       "                   VICE_PRESIDENT      VP_PHONE  ... BY_LAWS_UPDATED  \\\n",
       "0  Barbara Elfbrandt (Vice Chair)  520-624-3024  ...        06/15/13   \n",
       "1                                                ...                   \n",
       "2                    Helen Ferris      425-4457  ...        01/28/02   \n",
       "3                                                ...        11/17/05   \n",
       "4                                                ...      09/28/2011   \n",
       "\n",
       "                                                 URL NBA_ID COT_MAP_NO  \\\n",
       "0  https://www.tucsonaz.gov/apps/associations-and...      2         69   \n",
       "1  https://www.tucsonaz.gov/apps/associations-and...      3        193   \n",
       "2  https://www.tucsonaz.gov/apps/associations-and...      4          2   \n",
       "3  https://www.tucsonaz.gov/apps/associations-and...      5         95   \n",
       "4  https://www.tucsonaz.gov/apps/associations-and...      6        194   \n",
       "\n",
       "  COALITIONS DATASOURCE MAP_NO   ShapeSTArea ShapeSTLength  \\\n",
       "0              NHA_CITY   None  2.458101e+07  20383.248478   \n",
       "1       None   NHA_CITY   None  3.624837e+06   8046.606594   \n",
       "2              NHA_CITY   None  2.192354e+06   6445.969849   \n",
       "3              NHA_CITY   None  2.778033e+07  21124.051219   \n",
       "4       None   NHA_CITY   None  1.736186e+06   5271.927695   \n",
       "\n",
       "                                            geometry  \n",
       "0  POLYGON ((-111.00763 32.20690, -111.01179 32.2...  \n",
       "1  POLYGON ((-110.89229 32.21064, -110.89233 32.2...  \n",
       "2  POLYGON ((-110.90089 32.20342, -110.90251 32.2...  \n",
       "3  POLYGON ((-110.96099 32.26481, -110.96099 32.2...  \n",
       "4  POLYGON ((-110.88843 32.25065, -110.88840 32.2...  \n",
       "\n",
       "[5 rows x 34 columns]"
      ]
     },
     "execution_count": 24,
     "metadata": {},
     "output_type": "execute_result"
    }
   ],
   "source": [
    "nbrhoods=gpd.read_file('data/nbrhoods.geojson')\n",
    "nbrhoods.head()"
   ]
  },
  {
   "cell_type": "code",
   "execution_count": null,
   "metadata": {
    "scrolled": true
   },
   "outputs": [],
   "source": []
  },
  {
   "cell_type": "code",
   "execution_count": 25,
   "metadata": {},
   "outputs": [
    {
     "data": {
      "image/png": "[encoded data removed]",
      "text/plain": [
       "<Figure size 720x720 with 1 Axes>"
      ]
     },
     "metadata": {
      "needs_background": "light"
     },
     "output_type": "display_data"
    }
   ],
   "source": [
    "fig, ax = plt.subplots(figsize = (10,10))\n",
    "nbrhoods.plot(ax=ax)\n",
    "plt.show()"
   ]
  },
  {
   "cell_type": "markdown",
   "metadata": {},
   "source": [
    "We have our final input datasets for running zonal stats. Zonal stats runs on the files. You will get a warning about `nodata` which you can safely ignore."
   ]
  },
  {
   "cell_type": "code",
   "execution_count": 26,
   "metadata": {
    "scrolled": true
   },
   "outputs": [
    {
     "name": "stderr",
     "output_type": "stream",
     "text": [
      "/Users/aaryno/.pyenv/versions/3.7.1/lib/python3.7/site-packages/rasterstats/io.py:300: UserWarning: Setting nodata to -999; specify nodata explicitly\n",
      "  warnings.warn(\"Setting nodata to -999; specify nodata explicitly\")\n"
     ]
    }
   ],
   "source": [
    "zs = zonal_stats('data/nbrhoods.geojson', 'data/streetlights_heatmap.tif')"
   ]
  },
  {
   "cell_type": "markdown",
   "metadata": {},
   "source": [
    "Inspect the zonal stats output. You will see it is an array of dictionaries."
   ]
  },
  {
   "cell_type": "code",
   "execution_count": 27,
   "metadata": {},
   "outputs": [
    {
     "data": {
      "text/plain": [
       "[{'min': 0.12919993616954578,\n",
       "  'max': 166.6659552643599,\n",
       "  'mean': 35.61942886459735,\n",
       "  'count': 190},\n",
       " {'min': 0.0,\n",
       "  'max': 0.0002889955808914903,\n",
       "  'mean': 9.299771444130651e-06,\n",
       "  'count': 32},\n",
       " {'min': 17.822583118995034,\n",
       "  'max': 221.07965730824765,\n",
       "  'mean': 83.80276492277787,\n",
       "  'count': 21},\n",
       " {'min': 0.0,\n",
       "  'max': 226.21203608048654,\n",
       "  'mean': 41.39808743724483,\n",
       "  'count': 225},\n",
       " {'min': 0.0, 'max': 0.0, 'mean': 0.0, 'count': 12},\n",
       " {'min': 0.0,\n",
       "  'max': 358.0892188030619,\n",
       "  'mean': 115.38645191171622,\n",
       "  'count': 74},\n",
       " {'min': 0.3998394831199259,\n",
       "  'max': 248.68755816699206,\n",
       "  'mean': 99.61840211314103,\n",
       "  'count': 176},\n",
       " {'min': 0.0, 'max': 0.0, 'mean': 0.0, 'count': 56},\n",
       " {'min': 62.83079837815163,\n",
       "  'max': 226.77703462881996,\n",
       "  'mean': 134.14971338187948,\n",
       "  'count': 35},\n",
       " {'min': 12.718133107767864,\n",
       "  'max': 220.42393197611085,\n",
       "  'mean': 85.00931028166514,\n",
       "  'count': 29},\n",
       " {'min': 83.85919667998115,\n",
       "  'max': 184.97037516371847,\n",
       "  'mean': 132.0241031743546,\n",
       "  'count': 30},\n",
       " {'min': 0.01764196055026137,\n",
       "  'max': 205.53772170482614,\n",
       "  'mean': 83.91185132331795,\n",
       "  'count': 54},\n",
       " {'min': 0.00011439408410288158,\n",
       "  'max': 139.62955035553185,\n",
       "  'mean': 39.255779368997864,\n",
       "  'count': 109},\n",
       " {'min': 0.00047020174507599836,\n",
       "  'max': 29.191218221153395,\n",
       "  'mean': 9.314963129614354,\n",
       "  'count': 22},\n",
       " {'min': 0.7465995827944283,\n",
       "  'max': 427.710713517744,\n",
       "  'mean': 78.7038392496929,\n",
       "  'count': 226},\n",
       " {'min': 0.0,\n",
       "  'max': 308.7628253572987,\n",
       "  'mean': 57.12761099273813,\n",
       "  'count': 41},\n",
       " {'min': 1.4244573813178854,\n",
       "  'max': 223.68360121446298,\n",
       "  'mean': 50.26972647949882,\n",
       "  'count': 50},\n",
       " {'min': 34.17904129389214,\n",
       "  'max': 323.7526718658421,\n",
       "  'mean': 117.74360894564066,\n",
       "  'count': 47},\n",
       " {'min': 0.0,\n",
       "  'max': 55.023768968752215,\n",
       "  'mean': 0.7023830289297314,\n",
       "  'count': 351},\n",
       " {'min': 0.0,\n",
       "  'max': 182.19049852508266,\n",
       "  'mean': 39.188101780376996,\n",
       "  'count': 186},\n",
       " {'min': 2.9319317405891487,\n",
       "  'max': 369.1051961779275,\n",
       "  'mean': 113.21867807109372,\n",
       "  'count': 134},\n",
       " {'min': 0.0,\n",
       "  'max': 0.36134505561972907,\n",
       "  'mean': 0.01198234904837697,\n",
       "  'count': 37},\n",
       " {'min': 0.014108907940207811,\n",
       "  'max': 219.9973016709006,\n",
       "  'mean': 57.163433842480586,\n",
       "  'count': 63},\n",
       " {'min': 0.0,\n",
       "  'max': 134.77370393029557,\n",
       "  'mean': 24.85728937707449,\n",
       "  'count': 116},\n",
       " {'min': 0.0001160955945309349,\n",
       "  'max': 143.73200464544817,\n",
       "  'mean': 16.856386567156097,\n",
       "  'count': 54},\n",
       " {'min': 0.680766997857238,\n",
       "  'max': 222.6246259686543,\n",
       "  'mean': 53.173644417608784,\n",
       "  'count': 56},\n",
       " {'min': 0.0,\n",
       "  'max': 0.16691970996329503,\n",
       "  'mean': 0.0009884580267954693,\n",
       "  'count': 252},\n",
       " {'min': 0.0,\n",
       "  'max': 231.18503848729773,\n",
       "  'mean': 18.449333354963642,\n",
       "  'count': 240},\n",
       " {'min': 0.7235956934200232,\n",
       "  'max': 156.38572049832365,\n",
       "  'mean': 50.44599270810056,\n",
       "  'count': 64},\n",
       " {'min': 0.2087178173980278,\n",
       "  'max': 547.4478740575635,\n",
       "  'mean': 100.91951838155883,\n",
       "  'count': 266},\n",
       " {'min': 0.0,\n",
       "  'max': 208.4933580567445,\n",
       "  'mean': 8.844222463125211,\n",
       "  'count': 739},\n",
       " {'min': 0.0,\n",
       "  'max': 60.08322283325387,\n",
       "  'mean': 5.288612101823149,\n",
       "  'count': 130},\n",
       " {'min': 96.16230692270065,\n",
       "  'max': 359.7815744633508,\n",
       "  'mean': 161.17112324337728,\n",
       "  'count': 35},\n",
       " {'min': 0.0,\n",
       "  'max': 133.71521375873533,\n",
       "  'mean': 39.821457538366225,\n",
       "  'count': 47},\n",
       " {'min': 0.0,\n",
       "  'max': 0.04480457041961826,\n",
       "  'mean': 0.0021749202739988088,\n",
       "  'count': 48},\n",
       " {'min': 0.0,\n",
       "  'max': 0.00016903886051224237,\n",
       "  'mean': 9.674632877577909e-06,\n",
       "  'count': 18},\n",
       " {'min': 0.0,\n",
       "  'max': 418.8493801442446,\n",
       "  'mean': 45.72068247353219,\n",
       "  'count': 336},\n",
       " {'min': 0.0,\n",
       "  'max': 5.100828525854363,\n",
       "  'mean': 0.13958414416145076,\n",
       "  'count': 49},\n",
       " {'min': 0.0,\n",
       "  'max': 0.16796591378813386,\n",
       "  'mean': 0.006191620491122907,\n",
       "  'count': 49},\n",
       " {'min': 0.0, 'max': 0.0, 'mean': 0.0, 'count': 64},\n",
       " {'min': 40.3780959674851,\n",
       "  'max': 244.89076580832352,\n",
       "  'mean': 137.23070290812456,\n",
       "  'count': 50},\n",
       " {'min': 0.0,\n",
       "  'max': 44.19868593062251,\n",
       "  'mean': 2.36620028305733,\n",
       "  'count': 210},\n",
       " {'min': 0.0, 'max': 0.0, 'mean': 0.0, 'count': 12},\n",
       " {'min': 0.25584004008969397,\n",
       "  'max': 117.8635668848708,\n",
       "  'mean': 25.34974222756173,\n",
       "  'count': 16},\n",
       " {'min': 0.0,\n",
       "  'max': 127.56263200033408,\n",
       "  'mean': 24.787712875352742,\n",
       "  'count': 102},\n",
       " {'min': 0.0,\n",
       "  'max': 0.18994582103491148,\n",
       "  'mean': 0.007947132103593785,\n",
       "  'count': 28},\n",
       " {'min': 32.84517946680244,\n",
       "  'max': 170.87007741859912,\n",
       "  'mean': 75.41680307108156,\n",
       "  'count': 42},\n",
       " {'min': 0.0,\n",
       "  'max': 221.4231597564927,\n",
       "  'mean': 31.6476659716276,\n",
       "  'count': 220},\n",
       " {'min': 0.0,\n",
       "  'max': 297.8905577675551,\n",
       "  'mean': 38.5423091518192,\n",
       "  'count': 129},\n",
       " {'min': 0.0,\n",
       "  'max': 64.5822339229271,\n",
       "  'mean': 12.350033366432676,\n",
       "  'count': 59},\n",
       " {'min': 44.54000171435557,\n",
       "  'max': 1947.7753562521355,\n",
       "  'mean': 375.10188160310713,\n",
       "  'count': 165},\n",
       " {'min': 0.01422144596423192,\n",
       "  'max': 162.3328140784823,\n",
       "  'mean': 31.967141352749575,\n",
       "  'count': 84},\n",
       " {'min': 0.0,\n",
       "  'max': 264.45011045101677,\n",
       "  'mean': 11.929322299498953,\n",
       "  'count': 963},\n",
       " {'min': 0.0,\n",
       "  'max': 98.90383321418336,\n",
       "  'mean': 3.501819013303744,\n",
       "  'count': 224},\n",
       " {'min': 0.0, 'max': 0.0, 'mean': 0.0, 'count': 18},\n",
       " {'min': 0.0,\n",
       "  'max': 373.5470135381321,\n",
       "  'mean': 46.11380239479424,\n",
       "  'count': 460},\n",
       " {'min': 0.0, 'max': 0.0, 'mean': 0.0, 'count': 56},\n",
       " {'min': 0.02627036760329715,\n",
       "  'max': 255.7069262353457,\n",
       "  'mean': 71.73139937312801,\n",
       "  'count': 112},\n",
       " {'min': 0.0, 'max': 0.0, 'mean': 0.0, 'count': 56},\n",
       " {'min': 19.24021663258496,\n",
       "  'max': 86.08564798661794,\n",
       "  'mean': 53.90608099064446,\n",
       "  'count': 22},\n",
       " {'min': 0.0, 'max': 0.0, 'mean': 0.0, 'count': 14},\n",
       " {'min': 0.00043353997838201894,\n",
       "  'max': 150.62031504748626,\n",
       "  'mean': 35.15658563721951,\n",
       "  'count': 89},\n",
       " {'min': 0.00043353997838201894,\n",
       "  'max': 261.8187338790256,\n",
       "  'mean': 30.81285713350763,\n",
       "  'count': 203},\n",
       " {'min': 0.001579758596311273,\n",
       "  'max': 221.57817557570343,\n",
       "  'mean': 54.817172891153355,\n",
       "  'count': 140},\n",
       " {'min': 0.028131479100795595,\n",
       "  'max': 309.96178985939014,\n",
       "  'mean': 96.1468619809638,\n",
       "  'count': 56},\n",
       " {'min': 0.18605149219388764,\n",
       "  'max': 291.8291733164183,\n",
       "  'mean': 96.57007000229959,\n",
       "  'count': 249},\n",
       " {'min': 0.0,\n",
       "  'max': 0.3317674184276488,\n",
       "  'mean': 0.009779103689961923,\n",
       "  'count': 105},\n",
       " {'min': 0.0,\n",
       "  'max': 376.6882594949134,\n",
       "  'mean': 33.708559924788304,\n",
       "  'count': 501},\n",
       " {'min': 0.0, 'max': 0.0, 'mean': 0.0, 'count': 277},\n",
       " {'min': 0.0,\n",
       "  'max': 331.5772881197637,\n",
       "  'mean': 56.9049636115615,\n",
       "  'count': 867},\n",
       " {'min': 0.39853703870957724,\n",
       "  'max': 176.4273560312932,\n",
       "  'mean': 46.72114892715806,\n",
       "  'count': 44},\n",
       " {'min': 0.0,\n",
       "  'max': 315.485304294773,\n",
       "  'mean': 53.08686466005632,\n",
       "  'count': 108},\n",
       " {'min': 9.006725189463703,\n",
       "  'max': 159.60902986451353,\n",
       "  'mean': 67.66437156660152,\n",
       "  'count': 88},\n",
       " {'min': 0.0,\n",
       "  'max': 203.60865128395963,\n",
       "  'mean': 20.43400522133604,\n",
       "  'count': 120},\n",
       " {'min': 0.0, 'max': 0.0, 'mean': 0.0, 'count': 64},\n",
       " {'min': 5.050830128486552,\n",
       "  'max': 118.40381189759228,\n",
       "  'mean': 44.257176745524795,\n",
       "  'count': 41},\n",
       " {'min': 0.27225400437418507,\n",
       "  'max': 164.99735520474238,\n",
       "  'mean': 44.334495048905644,\n",
       "  'count': 62},\n",
       " {'min': 0.0,\n",
       "  'max': 48.27539681292225,\n",
       "  'mean': 5.4892684159512655,\n",
       "  'count': 64},\n",
       " {'min': 0.027798180110906845,\n",
       "  'max': 373.14321387537797,\n",
       "  'mean': 92.61949190892834,\n",
       "  'count': 197},\n",
       " {'min': 0.03733043672048504,\n",
       "  'max': 306.89660998083343,\n",
       "  'mean': 100.34701911348729,\n",
       "  'count': 49},\n",
       " {'min': 0.0,\n",
       "  'max': 48.58087575387455,\n",
       "  'mean': 5.576684142398584,\n",
       "  'count': 64},\n",
       " {'min': 0.0,\n",
       "  'max': 128.00867946498076,\n",
       "  'mean': 33.44665492421723,\n",
       "  'count': 96},\n",
       " {'min': 0.08942664876909834,\n",
       "  'max': 109.97055322808839,\n",
       "  'mean': 18.802115608839234,\n",
       "  'count': 74},\n",
       " {'min': 0.0,\n",
       "  'max': 37.690308128563615,\n",
       "  'mean': 1.5272716991372024,\n",
       "  'count': 72},\n",
       " {'min': 0.0, 'max': 0.0, 'mean': 0.0, 'count': 246},\n",
       " {'min': 0.0,\n",
       "  'max': 207.15146464204142,\n",
       "  'mean': 31.196389667803047,\n",
       "  'count': 225},\n",
       " {'min': 0.0,\n",
       "  'max': 17.512998054290804,\n",
       "  'mean': 0.7594881179549834,\n",
       "  'count': 213},\n",
       " {'min': 0.0626401709198918,\n",
       "  'max': 242.19565770711932,\n",
       "  'mean': 69.93080022426709,\n",
       "  'count': 15},\n",
       " {'min': 0.0,\n",
       "  'max': 1.4035203273844024,\n",
       "  'mean': 0.03223013445979784,\n",
       "  'count': 111},\n",
       " {'min': 0.18712358085997433,\n",
       "  'max': 177.61931734795053,\n",
       "  'mean': 54.467499501984136,\n",
       "  'count': 42},\n",
       " {'min': 0.0, 'max': 0.0, 'mean': 0.0, 'count': 55},\n",
       " {'min': 0.0,\n",
       "  'max': 85.17935053122162,\n",
       "  'mean': 2.8058153483552237,\n",
       "  'count': 144},\n",
       " {'min': 4.959878103536348e-05,\n",
       "  'max': 177.35585631576248,\n",
       "  'mean': 33.19962974064852,\n",
       "  'count': 186},\n",
       " {'min': 0.0, 'max': 0.0, 'mean': 0.0, 'count': 12},\n",
       " {'min': 0.0,\n",
       "  'max': 56.479032221507026,\n",
       "  'mean': 8.70447558213683,\n",
       "  'count': 64},\n",
       " {'min': 0.0,\n",
       "  'max': 11.143492450666642,\n",
       "  'mean': 1.1935918351190042,\n",
       "  'count': 64},\n",
       " {'min': 0.0007576125561626495,\n",
       "  'max': 148.2112565036608,\n",
       "  'mean': 14.01286777329242,\n",
       "  'count': 66},\n",
       " {'min': 0.0, 'max': 0.0, 'mean': 0.0, 'count': 3525},\n",
       " {'min': 1.334763425187988,\n",
       "  'max': 321.75388826667603,\n",
       "  'mean': 119.84011613590802,\n",
       "  'count': 92},\n",
       " {'min': 27.86301706542065,\n",
       "  'max': 657.894978560354,\n",
       "  'mean': 231.15671042742886,\n",
       "  'count': 105},\n",
       " {'min': 0.0, 'max': 0.0, 'mean': 0.0, 'count': 14},\n",
       " {'min': 0.0, 'max': 0.0, 'mean': 0.0, 'count': 92},\n",
       " {'min': 0.0, 'max': 0.0, 'mean': 0.0, 'count': 64},\n",
       " {'min': 0.0,\n",
       "  'max': 298.00922137237336,\n",
       "  'mean': 62.03751013039998,\n",
       "  'count': 224},\n",
       " {'min': 0.0,\n",
       "  'max': 103.41601166977759,\n",
       "  'mean': 9.312901376532658,\n",
       "  'count': 63},\n",
       " {'min': 0.0, 'max': 0.0, 'mean': 0.0, 'count': 24},\n",
       " {'min': 0.0,\n",
       "  'max': 59.27519351554099,\n",
       "  'mean': 11.510804379415985,\n",
       "  'count': 48},\n",
       " {'min': 0.0,\n",
       "  'max': 455.9980222105466,\n",
       "  'mean': 74.60288555271366,\n",
       "  'count': 60},\n",
       " {'min': 0.0,\n",
       "  'max': 385.65192868751427,\n",
       "  'mean': 42.095440106219506,\n",
       "  'count': 198},\n",
       " {'min': 0.0,\n",
       "  'max': 146.84040634790594,\n",
       "  'mean': 7.749281615375102,\n",
       "  'count': 104},\n",
       " {'min': 0.0,\n",
       "  'max': 56.97767510479112,\n",
       "  'mean': 3.599444996150656,\n",
       "  'count': 68},\n",
       " {'min': 0.0, 'max': 0.0, 'mean': 0.0, 'count': 84},\n",
       " {'min': 0.0, 'max': 0.0, 'mean': 0.0, 'count': 6},\n",
       " {'min': 0.0,\n",
       "  'max': 1.1079388474362466,\n",
       "  'mean': 0.23388668068406027,\n",
       "  'count': 9},\n",
       " {'min': 0.0,\n",
       "  'max': 4.443635681533851,\n",
       "  'mean': 0.5964137324642558,\n",
       "  'count': 20},\n",
       " {'min': 0.0, 'max': 0.0, 'mean': 0.0, 'count': 9},\n",
       " {'min': 0.0,\n",
       "  'max': 287.18176906303944,\n",
       "  'mean': 31.842785859693123,\n",
       "  'count': 394},\n",
       " {'min': 0.7917000056470156,\n",
       "  'max': 666.8521632884041,\n",
       "  'mean': 92.13595902096975,\n",
       "  'count': 369},\n",
       " {'min': 26.577636888973025,\n",
       "  'max': 281.5099116296247,\n",
       "  'mean': 113.4079954129523,\n",
       "  'count': 143},\n",
       " {'min': 0.09476679805263978,\n",
       "  'max': 502.2316079766256,\n",
       "  'mean': 97.51431284984892,\n",
       "  'count': 632},\n",
       " {'min': 2.121563341816787,\n",
       "  'max': 979.2828272402519,\n",
       "  'mean': 214.73808905532735,\n",
       "  'count': 81},\n",
       " {'min': 0.0, 'max': 0.0, 'mean': 0.0, 'count': 64},\n",
       " {'min': 35.560428966561716,\n",
       "  'max': 402.7938290128244,\n",
       "  'mean': 119.89010277952563,\n",
       "  'count': 240},\n",
       " {'min': 0.0, 'max': 0.0, 'mean': 0.0, 'count': 60},\n",
       " {'min': 0.0,\n",
       "  'max': 1.1371810325430072,\n",
       "  'mean': 0.025103270451713313,\n",
       "  'count': 56},\n",
       " {'min': 0.0, 'max': 0.0, 'mean': 0.0, 'count': 36},\n",
       " {'min': 0.0, 'max': 0.0, 'mean': 0.0, 'count': 19},\n",
       " {'min': 0.0, 'max': 0.0, 'mean': 0.0, 'count': 69},\n",
       " {'min': 0.0861418786050722,\n",
       "  'max': 313.22858949362217,\n",
       "  'mean': 64.71751661292353,\n",
       "  'count': 113},\n",
       " {'min': 1.6288180068080924,\n",
       "  'max': 100.69185473980599,\n",
       "  'mean': 24.570705793244702,\n",
       "  'count': 48},\n",
       " {'min': 0.0,\n",
       "  'max': 39.167808168234714,\n",
       "  'mean': 1.0724925089207156,\n",
       "  'count': 572},\n",
       " {'min': 0.0, 'max': 0.0, 'mean': 0.0, 'count': 23},\n",
       " {'min': 0.0, 'max': 0.0, 'mean': 0.0, 'count': 24},\n",
       " {'min': 0.0,\n",
       "  'max': 2.3411436814646125,\n",
       "  'mean': 0.09869277907743208,\n",
       "  'count': 42},\n",
       " {'min': 0.0,\n",
       "  'max': 170.10033985994727,\n",
       "  'mean': 2.6546221676718025,\n",
       "  'count': 699},\n",
       " {'min': 0.9985516120578937,\n",
       "  'max': 264.0187306042943,\n",
       "  'mean': 68.52237895266383,\n",
       "  'count': 56},\n",
       " {'min': 50.00675498225465,\n",
       "  'max': 453.47144175858386,\n",
       "  'mean': 153.60241834799186,\n",
       "  'count': 35},\n",
       " {'min': 0.0,\n",
       "  'max': 0.6479061836579733,\n",
       "  'mean': 0.1583082642286471,\n",
       "  'count': 9},\n",
       " {'min': 0.0,\n",
       "  'max': 0.00016903886051224237,\n",
       "  'mean': 9.674632877577909e-06,\n",
       "  'count': 18},\n",
       " {'min': 41.59467631378376,\n",
       "  'max': 266.90617822170634,\n",
       "  'mean': 115.85218669657793,\n",
       "  'count': 81},\n",
       " {'min': 0.0,\n",
       "  'max': 1.2868678303079268,\n",
       "  'mean': 0.10317165220684167,\n",
       "  'count': 32},\n",
       " {'min': 0.0,\n",
       "  'max': 194.9252504131715,\n",
       "  'mean': 45.56350254757002,\n",
       "  'count': 225},\n",
       " {'min': 0.0,\n",
       "  'max': 79.31420684568948,\n",
       "  'mean': 2.2525939855277346,\n",
       "  'count': 225},\n",
       " {'min': 0.0, 'max': 0.0, 'mean': 0.0, 'count': 16},\n",
       " {'min': 0.0, 'max': 0.0, 'mean': 0.0, 'count': 21},\n",
       " {'min': 0.0,\n",
       "  'max': 10.011512680023442,\n",
       "  'mean': 0.12154297969938256,\n",
       "  'count': 120}]"
      ]
     },
     "execution_count": 27,
     "metadata": {},
     "output_type": "execute_result"
    }
   ],
   "source": [
    "zs"
   ]
  },
  {
   "cell_type": "code",
   "execution_count": 28,
   "metadata": {},
   "outputs": [
    {
     "data": {
      "text/plain": [
       "list"
      ]
     },
     "execution_count": 28,
     "metadata": {},
     "output_type": "execute_result"
    }
   ],
   "source": [
    "type(zs)"
   ]
  },
  {
   "cell_type": "code",
   "execution_count": 29,
   "metadata": {},
   "outputs": [
    {
     "data": {
      "text/plain": [
       "dict"
      ]
     },
     "execution_count": 29,
     "metadata": {},
     "output_type": "execute_result"
    }
   ],
   "source": [
    "type(zs[0])"
   ]
  },
  {
   "cell_type": "code",
   "execution_count": 30,
   "metadata": {},
   "outputs": [
    {
     "data": {
      "text/plain": [
       "{'min': 0.12919993616954578,\n",
       " 'max': 166.6659552643599,\n",
       " 'mean': 35.61942886459735,\n",
       " 'count': 190}"
      ]
     },
     "execution_count": 30,
     "metadata": {},
     "output_type": "execute_result"
    }
   ],
   "source": [
    "zs[0]"
   ]
  },
  {
   "cell_type": "markdown",
   "metadata": {},
   "source": [
    "You may also recognize that there are no feature IDs in the dict. Fortunately, the stats records are in the same natural order as the records in the polygon input."
   ]
  },
  {
   "cell_type": "code",
   "execution_count": 31,
   "metadata": {},
   "outputs": [
    {
     "data": {
      "text/plain": [
       "146"
      ]
     },
     "execution_count": 31,
     "metadata": {},
     "output_type": "execute_result"
    }
   ],
   "source": [
    "len(zs)"
   ]
  },
  {
   "cell_type": "code",
   "execution_count": 32,
   "metadata": {},
   "outputs": [
    {
     "data": {
      "text/plain": [
       "146"
      ]
     },
     "execution_count": 32,
     "metadata": {},
     "output_type": "execute_result"
    }
   ],
   "source": [
    "len(nbrhoods)"
   ]
  },
  {
   "cell_type": "markdown",
   "metadata": {},
   "source": [
    "We want to add a new column to the zonal stats but it isn't as simple as the `mean`. We want to calculate the `mean` over `area`. This is also a good opportunity to point out what's called a `list comprehension`, which is a concise way of populating a list. Since the values we want are in a `dict` inside a `list` we need to extract them, or promote them to their own list. To do this:"
   ]
  },
  {
   "cell_type": "code",
   "execution_count": 33,
   "metadata": {},
   "outputs": [],
   "source": [
    "light_mean = [rec['mean'] for rec in zs]"
   ]
  },
  {
   "cell_type": "markdown",
   "metadata": {},
   "source": [
    "Next, let's divide the zonal mean by the polygon area to get the average light over the neighborhood."
   ]
  },
  {
   "cell_type": "code",
   "execution_count": 34,
   "metadata": {},
   "outputs": [],
   "source": [
    "light_mean_per_area = light_mean / nbrhoods.area"
   ]
  },
  {
   "cell_type": "markdown",
   "metadata": {},
   "source": [
    "Finally, we can expand the `nbrhoods` `GeoDataFrame` simply by declaring a dict entry and giving it the value or our list:"
   ]
  },
  {
   "cell_type": "code",
   "execution_count": 35,
   "metadata": {},
   "outputs": [],
   "source": [
    "nbrhoods['light_avg'] = light_mean_per_area"
   ]
  },
  {
   "cell_type": "markdown",
   "metadata": {},
   "source": [
    "How does it look? Let's take a peek and we will set the display column to `light_avg` and let the underlying `plot` logic build a chloropleth map for us."
   ]
  },
  {
   "cell_type": "code",
   "execution_count": 36,
   "metadata": {},
   "outputs": [
    {
     "data": {
      "text/plain": [
       "<matplotlib.axes._subplots.AxesSubplot at 0x11e31f4e0>"
      ]
     },
     "execution_count": 36,
     "metadata": {},
     "output_type": "execute_result"
    },
    {
     "data": {
      "image/png": "[encoded data removed]",
      "text/plain": [
       "<Figure size 432x288 with 2 Axes>"
      ]
     },
     "metadata": {
      "needs_background": "light"
     },
     "output_type": "display_data"
    }
   ],
   "source": [
    "nbrhoods.plot(column='light_avg', legend=True)"
   ]
  },
  {
   "cell_type": "markdown",
   "metadata": {},
   "source": [
    "It looks believable. Of course you can open these files in QGIS and inspect them closer, but assuming they pass the test, it's time to sort the neighborhoods based on their average light and help out your uncle with some suggestions."
   ]
  },
  {
   "cell_type": "code",
   "execution_count": 37,
   "metadata": {},
   "outputs": [
    {
     "data": {
      "text/html": [
       "<div>\n",
       "<style scoped>\n",
       "    .dataframe tbody tr th:only-of-type {\n",
       "        vertical-align: middle;\n",
       "    }\n",
       "\n",
       "    .dataframe tbody tr th {\n",
       "        vertical-align: top;\n",
       "    }\n",
       "\n",
       "    .dataframe thead th {\n",
       "        text-align: right;\n",
       "    }\n",
       "</style>\n",
       "<table border=\"1\" class=\"dataframe\">\n",
       "  <thead>\n",
       "    <tr style=\"text-align: right;\">\n",
       "      <th></th>\n",
       "      <th>OBJECTID</th>\n",
       "      <th>NAME</th>\n",
       "      <th>WARD</th>\n",
       "      <th>REGISTRATION</th>\n",
       "      <th>SCHOOL_DISTRICT</th>\n",
       "      <th>PRESIDENT</th>\n",
       "      <th>PRESIDENT_PHONE</th>\n",
       "      <th>PRESIDENT_EMAIL</th>\n",
       "      <th>VICE_PRESIDENT</th>\n",
       "      <th>VP_PHONE</th>\n",
       "      <th>...</th>\n",
       "      <th>URL</th>\n",
       "      <th>NBA_ID</th>\n",
       "      <th>COT_MAP_NO</th>\n",
       "      <th>COALITIONS</th>\n",
       "      <th>DATASOURCE</th>\n",
       "      <th>MAP_NO</th>\n",
       "      <th>ShapeSTArea</th>\n",
       "      <th>ShapeSTLength</th>\n",
       "      <th>geometry</th>\n",
       "      <th>light_avg</th>\n",
       "    </tr>\n",
       "  </thead>\n",
       "  <tbody>\n",
       "    <tr>\n",
       "      <td>2</td>\n",
       "      <td>3</td>\n",
       "      <td>Alvernon Heights</td>\n",
       "      <td>5</td>\n",
       "      <td>03/24/82</td>\n",
       "      <td>TUSD</td>\n",
       "      <td>Diane M. Campbell</td>\n",
       "      <td>325-2189</td>\n",
       "      <td></td>\n",
       "      <td>Helen Ferris</td>\n",
       "      <td>425-4457</td>\n",
       "      <td>...</td>\n",
       "      <td>https://www.tucsonaz.gov/apps/associations-and...</td>\n",
       "      <td>4</td>\n",
       "      <td>2</td>\n",
       "      <td></td>\n",
       "      <td>NHA_CITY</td>\n",
       "      <td>None</td>\n",
       "      <td>2.192354e+06</td>\n",
       "      <td>6445.969849</td>\n",
       "      <td>POLYGON ((-110.90089 32.20342, -110.90251 32.2...</td>\n",
       "      <td>4.301959e+06</td>\n",
       "    </tr>\n",
       "    <tr>\n",
       "      <td>136</td>\n",
       "      <td>137</td>\n",
       "      <td>West Lamar</td>\n",
       "      <td>1</td>\n",
       "      <td>7/5/2016</td>\n",
       "      <td></td>\n",
       "      <td>Margaret O. Chumbler (Contact)</td>\n",
       "      <td>520-294-8367</td>\n",
       "      <td></td>\n",
       "      <td></td>\n",
       "      <td></td>\n",
       "      <td>...</td>\n",
       "      <td>https://www.tucsonaz.gov/apps/associations-and...</td>\n",
       "      <td>144</td>\n",
       "      <td>62</td>\n",
       "      <td></td>\n",
       "      <td>NHA_CITY</td>\n",
       "      <td>None</td>\n",
       "      <td>4.156622e+06</td>\n",
       "      <td>8247.728326</td>\n",
       "      <td>POLYGON ((-110.98577 32.17784, -110.98737 32.1...</td>\n",
       "      <td>4.159970e+06</td>\n",
       "    </tr>\n",
       "    <tr>\n",
       "      <td>10</td>\n",
       "      <td>11</td>\n",
       "      <td>Barrio Blue Moon</td>\n",
       "      <td>3</td>\n",
       "      <td>10/18/82</td>\n",
       "      <td>TUSD</td>\n",
       "      <td>Tina Hansleben</td>\n",
       "      <td>520-409-7475</td>\n",
       "      <td>tinahansleben@gmail.com</td>\n",
       "      <td></td>\n",
       "      <td></td>\n",
       "      <td>...</td>\n",
       "      <td>https://www.tucsonaz.gov/apps/associations-and...</td>\n",
       "      <td>12</td>\n",
       "      <td>98</td>\n",
       "      <td></td>\n",
       "      <td>NHA_CITY</td>\n",
       "      <td>None</td>\n",
       "      <td>3.571442e+06</td>\n",
       "      <td>8209.598517</td>\n",
       "      <td>POLYGON ((-110.97793 32.23585, -110.97796 32.2...</td>\n",
       "      <td>4.158507e+06</td>\n",
       "    </tr>\n",
       "    <tr>\n",
       "      <td>87</td>\n",
       "      <td>88</td>\n",
       "      <td>Panorama Estates</td>\n",
       "      <td>1</td>\n",
       "      <td>03/03/87</td>\n",
       "      <td>TUSD</td>\n",
       "      <td>Mary Jo Ghory</td>\n",
       "      <td>520-622-6419</td>\n",
       "      <td>panoramaestatesneighborhood@gmail.com</td>\n",
       "      <td>Curtis Yingling</td>\n",
       "      <td>520-622-6419</td>\n",
       "      <td>...</td>\n",
       "      <td>https://www.tucsonaz.gov/apps/associations-and...</td>\n",
       "      <td>93</td>\n",
       "      <td>40</td>\n",
       "      <td></td>\n",
       "      <td>NHA_CITY</td>\n",
       "      <td>None</td>\n",
       "      <td>2.086691e+06</td>\n",
       "      <td>7284.757648</td>\n",
       "      <td>POLYGON ((-110.99501 32.21500, -110.99463 32.2...</td>\n",
       "      <td>3.770828e+06</td>\n",
       "    </tr>\n",
       "    <tr>\n",
       "      <td>32</td>\n",
       "      <td>33</td>\n",
       "      <td>Coronado Heights</td>\n",
       "      <td>3</td>\n",
       "      <td>06/30/09</td>\n",
       "      <td>TUSD</td>\n",
       "      <td>Donna Perry</td>\n",
       "      <td>520-276-5322</td>\n",
       "      <td>CoronadoHeightsNeighborhood@gmail.com</td>\n",
       "      <td>Berni Jilka</td>\n",
       "      <td>520-276-5322</td>\n",
       "      <td>...</td>\n",
       "      <td>https://www.tucsonaz.gov/apps/associations-and...</td>\n",
       "      <td>34</td>\n",
       "      <td>189</td>\n",
       "      <td></td>\n",
       "      <td>NHA_CITY</td>\n",
       "      <td>None</td>\n",
       "      <td>4.853042e+06</td>\n",
       "      <td>8925.275869</td>\n",
       "      <td>POLYGON ((-110.97613 32.26472, -110.97705 32.2...</td>\n",
       "      <td>3.735096e+06</td>\n",
       "    </tr>\n",
       "    <tr>\n",
       "      <td>...</td>\n",
       "      <td>...</td>\n",
       "      <td>...</td>\n",
       "      <td>...</td>\n",
       "      <td>...</td>\n",
       "      <td>...</td>\n",
       "      <td>...</td>\n",
       "      <td>...</td>\n",
       "      <td>...</td>\n",
       "      <td>...</td>\n",
       "      <td>...</td>\n",
       "      <td>...</td>\n",
       "      <td>...</td>\n",
       "      <td>...</td>\n",
       "      <td>...</td>\n",
       "      <td>...</td>\n",
       "      <td>...</td>\n",
       "      <td>...</td>\n",
       "      <td>...</td>\n",
       "      <td>...</td>\n",
       "      <td>...</td>\n",
       "      <td>...</td>\n",
       "    </tr>\n",
       "    <tr>\n",
       "      <td>90</td>\n",
       "      <td>91</td>\n",
       "      <td>Poets Square</td>\n",
       "      <td>6</td>\n",
       "      <td>03/23/02</td>\n",
       "      <td>TUSD</td>\n",
       "      <td>Pete Odeven (Co-Chair)</td>\n",
       "      <td></td>\n",
       "      <td>poetssquare@gmail.com</td>\n",
       "      <td>Matt Bingham (Co-Chair)</td>\n",
       "      <td></td>\n",
       "      <td>...</td>\n",
       "      <td>https://www.tucsonaz.gov/apps/associations-and...</td>\n",
       "      <td>96</td>\n",
       "      <td>160</td>\n",
       "      <td></td>\n",
       "      <td>NHA_CITY</td>\n",
       "      <td>None</td>\n",
       "      <td>7.101695e+06</td>\n",
       "      <td>10692.585821</td>\n",
       "      <td>POLYGON ((-110.89238 32.22486, -110.89236 32.2...</td>\n",
       "      <td>0.000000e+00</td>\n",
       "    </tr>\n",
       "    <tr>\n",
       "      <td>121</td>\n",
       "      <td>122</td>\n",
       "      <td>Swan Way Park</td>\n",
       "      <td>6</td>\n",
       "      <td></td>\n",
       "      <td></td>\n",
       "      <td>Dan Dougherty</td>\n",
       "      <td>520-809-5466</td>\n",
       "      <td>danstarrorg410@gmail.com</td>\n",
       "      <td></td>\n",
       "      <td></td>\n",
       "      <td>...</td>\n",
       "      <td>https://www.tucsonaz.gov/apps/associations-and...</td>\n",
       "      <td>128</td>\n",
       "      <td>107</td>\n",
       "      <td></td>\n",
       "      <td>NHA_CITY</td>\n",
       "      <td>None</td>\n",
       "      <td>6.997746e+06</td>\n",
       "      <td>10593.128453</td>\n",
       "      <td>POLYGON ((-110.88404 32.23620, -110.88619 32.2...</td>\n",
       "      <td>0.000000e+00</td>\n",
       "    </tr>\n",
       "    <tr>\n",
       "      <td>123</td>\n",
       "      <td>124</td>\n",
       "      <td>Thunderbird Heights/Wilmot Desert Esta</td>\n",
       "      <td>6</td>\n",
       "      <td>10/07/85</td>\n",
       "      <td>TUSD</td>\n",
       "      <td></td>\n",
       "      <td></td>\n",
       "      <td></td>\n",
       "      <td>David Bradley</td>\n",
       "      <td></td>\n",
       "      <td>...</td>\n",
       "      <td>https://www.tucsonaz.gov/apps/associations-and...</td>\n",
       "      <td>130</td>\n",
       "      <td>59</td>\n",
       "      <td></td>\n",
       "      <td>NHA_CITY</td>\n",
       "      <td>None</td>\n",
       "      <td>7.074776e+06</td>\n",
       "      <td>10595.269472</td>\n",
       "      <td>POLYGON ((-110.85793 32.23583, -110.85819 32.2...</td>\n",
       "      <td>0.000000e+00</td>\n",
       "    </tr>\n",
       "    <tr>\n",
       "      <td>126</td>\n",
       "      <td>127</td>\n",
       "      <td>Udall Park</td>\n",
       "      <td>2</td>\n",
       "      <td>04/20/06</td>\n",
       "      <td>TUSD</td>\n",
       "      <td>Anne Stephenson</td>\n",
       "      <td></td>\n",
       "      <td>wasteph@cox.net</td>\n",
       "      <td>Bob Kattnig</td>\n",
       "      <td>349-5607</td>\n",
       "      <td>...</td>\n",
       "      <td>https://www.tucsonaz.gov/apps/associations-and...</td>\n",
       "      <td>134</td>\n",
       "      <td>182</td>\n",
       "      <td></td>\n",
       "      <td>NHA_CITY</td>\n",
       "      <td>None</td>\n",
       "      <td>2.639646e+06</td>\n",
       "      <td>7003.964974</td>\n",
       "      <td>POLYGON ((-110.84103 32.24286, -110.84106 32.2...</td>\n",
       "      <td>0.000000e+00</td>\n",
       "    </tr>\n",
       "    <tr>\n",
       "      <td>68</td>\n",
       "      <td>69</td>\n",
       "      <td>Mesquite Ranch</td>\n",
       "      <td>4</td>\n",
       "      <td>08/10/05</td>\n",
       "      <td>Vail</td>\n",
       "      <td>Keith Miller</td>\n",
       "      <td>444-2024</td>\n",
       "      <td>mrnapresident@mesquiteranch.org</td>\n",
       "      <td>Cindy Copley</td>\n",
       "      <td>444-2024</td>\n",
       "      <td>...</td>\n",
       "      <td>https://www.tucsonaz.gov/apps/associations-and...</td>\n",
       "      <td>73</td>\n",
       "      <td>167</td>\n",
       "      <td></td>\n",
       "      <td>NHA_CITY</td>\n",
       "      <td>None</td>\n",
       "      <td>3.482569e+07</td>\n",
       "      <td>31484.001409</td>\n",
       "      <td>POLYGON ((-110.78983 32.13375, -110.76604 32.1...</td>\n",
       "      <td>0.000000e+00</td>\n",
       "    </tr>\n",
       "  </tbody>\n",
       "</table>\n",
       "<p>146 rows × 35 columns</p>\n",
       "</div>"
      ],
      "text/plain": [
       "     OBJECTID                                    NAME  WARD REGISTRATION  \\\n",
       "2           3                        Alvernon Heights     5     03/24/82   \n",
       "136       137                              West Lamar     1     7/5/2016   \n",
       "10         11                        Barrio Blue Moon     3     10/18/82   \n",
       "87         88                        Panorama Estates     1     03/03/87   \n",
       "32         33                        Coronado Heights     3     06/30/09   \n",
       "..        ...                                     ...   ...          ...   \n",
       "90         91                            Poets Square     6     03/23/02   \n",
       "121       122                           Swan Way Park     6                \n",
       "123       124  Thunderbird Heights/Wilmot Desert Esta     6     10/07/85   \n",
       "126       127                              Udall Park     2     04/20/06   \n",
       "68         69                          Mesquite Ranch     4     08/10/05   \n",
       "\n",
       "    SCHOOL_DISTRICT                       PRESIDENT PRESIDENT_PHONE  \\\n",
       "2              TUSD               Diane M. Campbell        325-2189   \n",
       "136                  Margaret O. Chumbler (Contact)    520-294-8367   \n",
       "10             TUSD                  Tina Hansleben    520-409-7475   \n",
       "87             TUSD                   Mary Jo Ghory    520-622-6419   \n",
       "32             TUSD                     Donna Perry    520-276-5322   \n",
       "..              ...                             ...             ...   \n",
       "90             TUSD          Pete Odeven (Co-Chair)                   \n",
       "121                                   Dan Dougherty    520-809-5466   \n",
       "123            TUSD                                                   \n",
       "126            TUSD                 Anne Stephenson                   \n",
       "68             Vail                    Keith Miller        444-2024   \n",
       "\n",
       "                           PRESIDENT_EMAIL           VICE_PRESIDENT  \\\n",
       "2                                                      Helen Ferris   \n",
       "136                                                                   \n",
       "10                 tinahansleben@gmail.com                            \n",
       "87   panoramaestatesneighborhood@gmail.com          Curtis Yingling   \n",
       "32   CoronadoHeightsNeighborhood@gmail.com              Berni Jilka   \n",
       "..                                     ...                      ...   \n",
       "90                   poetssquare@gmail.com  Matt Bingham (Co-Chair)   \n",
       "121               danstarrorg410@gmail.com                            \n",
       "123                                                   David Bradley   \n",
       "126                        wasteph@cox.net              Bob Kattnig   \n",
       "68         mrnapresident@mesquiteranch.org             Cindy Copley   \n",
       "\n",
       "         VP_PHONE  ...                                                URL  \\\n",
       "2        425-4457  ...  https://www.tucsonaz.gov/apps/associations-and...   \n",
       "136                ...  https://www.tucsonaz.gov/apps/associations-and...   \n",
       "10                 ...  https://www.tucsonaz.gov/apps/associations-and...   \n",
       "87   520-622-6419  ...  https://www.tucsonaz.gov/apps/associations-and...   \n",
       "32   520-276-5322  ...  https://www.tucsonaz.gov/apps/associations-and...   \n",
       "..            ...  ...                                                ...   \n",
       "90                 ...  https://www.tucsonaz.gov/apps/associations-and...   \n",
       "121                ...  https://www.tucsonaz.gov/apps/associations-and...   \n",
       "123                ...  https://www.tucsonaz.gov/apps/associations-and...   \n",
       "126      349-5607  ...  https://www.tucsonaz.gov/apps/associations-and...   \n",
       "68       444-2024  ...  https://www.tucsonaz.gov/apps/associations-and...   \n",
       "\n",
       "    NBA_ID COT_MAP_NO COALITIONS DATASOURCE MAP_NO   ShapeSTArea  \\\n",
       "2        4          2              NHA_CITY   None  2.192354e+06   \n",
       "136    144         62              NHA_CITY   None  4.156622e+06   \n",
       "10      12         98              NHA_CITY   None  3.571442e+06   \n",
       "87      93         40              NHA_CITY   None  2.086691e+06   \n",
       "32      34        189              NHA_CITY   None  4.853042e+06   \n",
       "..     ...        ...        ...        ...    ...           ...   \n",
       "90      96        160              NHA_CITY   None  7.101695e+06   \n",
       "121    128        107              NHA_CITY   None  6.997746e+06   \n",
       "123    130         59              NHA_CITY   None  7.074776e+06   \n",
       "126    134        182              NHA_CITY   None  2.639646e+06   \n",
       "68      73        167              NHA_CITY   None  3.482569e+07   \n",
       "\n",
       "    ShapeSTLength                                           geometry  \\\n",
       "2     6445.969849  POLYGON ((-110.90089 32.20342, -110.90251 32.2...   \n",
       "136   8247.728326  POLYGON ((-110.98577 32.17784, -110.98737 32.1...   \n",
       "10    8209.598517  POLYGON ((-110.97793 32.23585, -110.97796 32.2...   \n",
       "87    7284.757648  POLYGON ((-110.99501 32.21500, -110.99463 32.2...   \n",
       "32    8925.275869  POLYGON ((-110.97613 32.26472, -110.97705 32.2...   \n",
       "..            ...                                                ...   \n",
       "90   10692.585821  POLYGON ((-110.89238 32.22486, -110.89236 32.2...   \n",
       "121  10593.128453  POLYGON ((-110.88404 32.23620, -110.88619 32.2...   \n",
       "123  10595.269472  POLYGON ((-110.85793 32.23583, -110.85819 32.2...   \n",
       "126   7003.964974  POLYGON ((-110.84103 32.24286, -110.84106 32.2...   \n",
       "68   31484.001409  POLYGON ((-110.78983 32.13375, -110.76604 32.1...   \n",
       "\n",
       "        light_avg  \n",
       "2    4.301959e+06  \n",
       "136  4.159970e+06  \n",
       "10   4.158507e+06  \n",
       "87   3.770828e+06  \n",
       "32   3.735096e+06  \n",
       "..            ...  \n",
       "90   0.000000e+00  \n",
       "121  0.000000e+00  \n",
       "123  0.000000e+00  \n",
       "126  0.000000e+00  \n",
       "68   0.000000e+00  \n",
       "\n",
       "[146 rows x 35 columns]"
      ]
     },
     "execution_count": 37,
     "metadata": {},
     "output_type": "execute_result"
    }
   ],
   "source": [
    "nbrhoods.sort_values(by='light_avg', ascending=False)"
   ]
  },
  {
   "cell_type": "markdown",
   "metadata": {},
   "source": [
    "To finish up, save the `nbrhoods` `GeoDataFrame` to a shapefile:"
   ]
  },
  {
   "cell_type": "code",
   "execution_count": 38,
   "metadata": {},
   "outputs": [],
   "source": [
    "nbrhoods.to_file('data/nbrhoods.shp')"
   ]
  },
  {
   "cell_type": "markdown",
   "metadata": {},
   "source": [
    "# Assignment Deliverable\n",
    "Take a screenshot of the this final page such that it includes some output from `nbrhoods.plot(column='light_avg', legent=True` and `nbrhoods.sort_values(by='light_avg', ascending=False)`"
   ]
  }
 ],
 "metadata": {
  "kernelspec": {
   "display_name": "Python 3",
   "language": "python",
   "name": "python3"
  },
  "language_info": {
   "codemirror_mode": {
    "name": "ipython",
    "version": 3
   },
   "file_extension": ".py",
   "mimetype": "text/x-python",
   "name": "python",
   "nbconvert_exporter": "python",
   "pygments_lexer": "ipython3",
   "version": "3.7.1"
  }
 },
 "nbformat": 4,
 "nbformat_minor": 2
}
